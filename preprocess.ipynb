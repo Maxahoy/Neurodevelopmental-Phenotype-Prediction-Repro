{
 "cells": [
  {
   "cell_type": "markdown",
   "id": "985e63ad",
   "metadata": {},
   "source": [
    "Connectome Workbench is required: https://www.humanconnectome.org/software/connectome-workbench"
   ]
  },
  {
   "cell_type": "code",
   "execution_count": null,
   "id": "0d97845d",
   "metadata": {},
   "outputs": [],
   "source": [
    "import numpy as np\n",
    "\n",
    "birth_age_indices = np.loadtxt('birth_age_full.txt', dtype=str)\n",
    "scan_age_indices = np.loadtxt('scan_age_full.txt', dtype=str)\n",
    "all_indices = list(set(birth_age_indices.tolist() + scan_age_indices.tolist()))\n",
    "\n",
    "all_indices.sort()\n"
   ]
  },
  {
   "cell_type": "code",
   "execution_count": null,
   "id": "2dbf6abd",
   "metadata": {},
   "outputs": [],
   "source": [
    "import os\n",
    "\n",
    "output_path = '../data/features/'\n",
    "\n",
    "template = True\n",
    "\n",
    "for index in all_indices:\n",
    "    sub, ses = index.split('_')\n",
    "    input_path = '../rel3_dhcp_anat_pipeline/' + sub + '/' + ses\n",
    "    anat_path = input_path + '/anat/'\n",
    "    xfm_path = input_path + '/xfm/'\n",
    "    for hemi in ('left', 'right'):\n",
    "        myelinmap = anat_path + index + '_hemi-' + hemi + '_myelinmap.shape.gii'\n",
    "        curv = anat_path + index + '_hemi-' + hemi + '_curv.shape.gii'\n",
    "        corr_thickness = anat_path + index + '_hemi-' + hemi + '_desc-corr_thickness.shape.gii'\n",
    "        sulc = anat_path + index + '_hemi-' + hemi + '_sulc.shape.gii'\n",
    "        metrics = output_path + index + '_' + hemi + '.shape.gii'\n",
    "        if not os.path.isfile(myelinmap):\n",
    "            print(myelinmap) # not all T1w images are present in the dataset\n",
    "        else:\n",
    "            ico6 = 'ico-6.surf.gii'\n",
    "            # merge all 4 metrics\n",
    "            !wb_command -metric-merge $metrics -metric $myelinmap -metric $curv -metric $corr_thickness -metric $sulc\n",
    "            if template:\n",
    "                xfm_sphere = xfm_path + index + '_hemi-' + hemi + '_from-native_to-dhcpSym40_dens-32k_mode-sphere.surf.gii'\n",
    "                template_sphere = 'week-40_hemi-' + hemi + '_space-dhcpSym_dens-32k_sphere.surf.gii'\n",
    "                native_midthickness = anat_path + index + '_hemi-' + hemi + '_midthickness.surf.gii'\n",
    "                template_midthickness = 'week-40_hemi-' + hemi + '_space-dhcpSym_dens-32k_midthickness.surf.gii'\n",
    "                # resample metrics from native space to template sphere (dhcpSym40) using xfm_sphere transform\n",
    "                !wb_command -metric-resample $metrics $xfm_sphere $template_sphere ADAP_BARY_AREA $metrics -area-surfs $native_midthickness $template_midthickness\n",
    "                # resample metrics from template sphere (dhcpSym40) to the 6th order icosphere\n",
    "                !wb_command -metric-resample $metrics $template_sphere $ico6 BARYCENTRIC $metrics\n",
    "            else:\n",
    "                native_sphere = anat_path + index + '_hemi-' + hemi + '_sphere.surf.gii'\n",
    "                # resample metrics from native sphere to the 6th order icosphere\n",
    "                !wb_command -metric-resample $metrics $native_sphere $ico6 BARYCENTRIC $metrics\n",
    "    print(index, 'is ready')"
   ]
  }
 ],
 "metadata": {
  "kernelspec": {
   "display_name": "Python 3 (ipykernel)",
   "language": "python",
   "name": "python3"
  },
  "language_info": {
   "codemirror_mode": {
    "name": "ipython",
    "version": 3
   },
   "file_extension": ".py",
   "mimetype": "text/x-python",
   "name": "python",
   "nbconvert_exporter": "python",
   "pygments_lexer": "ipython3",
   "version": "3.7.11"
  }
 },
 "nbformat": 4,
 "nbformat_minor": 5
}
